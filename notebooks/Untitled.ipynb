{
 "cells": [
  {
   "cell_type": "code",
   "execution_count": 1,
   "id": "5305684d",
   "metadata": {},
   "outputs": [],
   "source": [
    "from airflow.models import BaseOperator"
   ]
  },
  {
   "cell_type": "code",
   "execution_count": null,
   "id": "72acc09c",
   "metadata": {},
   "outputs": [],
   "source": [
    "BaseOperator()"
   ]
  }
 ],
 "metadata": {
  "kernelspec": {
   "display_name": "Python 3 (ipykernel)",
   "language": "python",
   "name": "python3"
  },
  "language_info": {
   "codemirror_mode": {
    "name": "ipython",
    "version": 3
   },
   "file_extension": ".py",
   "mimetype": "text/x-python",
   "name": "python",
   "nbconvert_exporter": "python",
   "pygments_lexer": "ipython3",
   "version": "3.7.10"
  }
 },
 "nbformat": 4,
 "nbformat_minor": 5
}
